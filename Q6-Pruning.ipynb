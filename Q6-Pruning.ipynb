{
 "cells": [
  {
   "cell_type": "code",
   "execution_count": null,
   "metadata": {
    "id": "SblI4JHed_gb"
   },
   "outputs": [],
   "source": [
    "# this mounts your Google Drive to the Colab VM.\n",
    "from google.colab import drive\n",
    "drive.mount('/content/drive', force_remount=True)\n",
    "\n",
    "# enter the foldername in your Drive where you have saved the unzipped\n",
    "# assignment folder, e.g. 'ece697ls/assignments/assignment3/'\n",
    "FOLDERNAME = None\n",
    "assert FOLDERNAME is not None, \"[!] Enter the foldername.\"\n",
    "\n",
    "# now that we've mounted your Drive, this ensures that\n",
    "# the Python interpreter of the Colab VM can load\n",
    "# python files from within it.\n",
    "import sys\n",
    "sys.path.append('/content/drive/My Drive/{}'.format(FOLDERNAME))\n",
    "\n",
    "%cd /content"
   ]
  },
  {
   "cell_type": "markdown",
   "metadata": {
    "id": "rDCKl_T8d_gg",
    "tags": [
     "pdf-title"
    ]
   },
   "source": [
    "# Pruning\n",
    "\n",
    "After learning, neural networks have modified and learned a set of parameters to perform our classification task. However, such parameters are costly to maintain and do not hold the same importance.\n",
    "\n",
    "Wouldn't it be great could optimize our resource usage by dropping less important values ? This is where pruning comes into play.\n",
    "\n",
    "Pruning is a technique that cuts off parameters/structures from a model to increase sparcity and decrease overall model size, similar to cutting leafs or branches from bushes and trees. This process can lead to smaller memory consumption with minimal accuracy reduction. Moreover, pruning the network may also provide a speedup since there will be less operations being performed.\n",
    "\n",
    "The pruning process can be performed during the end of an epoch of training or after training is complete. Experimenting to find out which way works the best is part of the fun !"
   ]
  },
  {
   "cell_type": "code",
   "execution_count": 7,
   "metadata": {
    "id": "P242B5PEtU6N"
   },
   "outputs": [],
   "source": [
    "from ece662.pruning_helper import test_model, load_model\n",
    "from ece662.data_utils import get_CINIC10_data\n",
    "import os"
   ]
  },
  {
   "cell_type": "markdown",
   "metadata": {
    "id": "76IT2Z-P7aYm"
   },
   "source": [
    "Below we will load a pre-trained model for you to work on. If you prefer, you can save your own model from the previous Tensorflow/Pytorch task and load it here."
   ]
  },
  {
   "cell_type": "code",
   "execution_count": 8,
   "metadata": {
    "id": "jKM5JRLtuVbJ"
   },
   "outputs": [
    {
     "name": "stdout",
     "output_type": "stream",
     "text": [
      "Test Acc: 0.5081\n"
     ]
    }
   ],
   "source": [
    "#This code may take a while to execute as it is training a network form scratch\n",
    "\n",
    "data = get_CINIC10_data()\n",
    "mode = 'torch'#torch or tensorflow\n",
    "\n",
    "test_data = [data['X_test'],data['y_test']]\n",
    "\n",
    "path = f\"ece662/models/{mode}.model\"\n",
    "\n",
    "model = load_model(path,mode=mode)\n",
    "test_model(model,test_data,mode=mode)"
   ]
  },
  {
   "cell_type": "markdown",
   "metadata": {
    "id": "yZOsPryFd_gi",
    "tags": [
     "pdf-ignore"
    ]
   },
   "source": [
    "## Unstructured Pruning\n",
    "\n",
    "Unstructured Pruning is usually related to the pruning of weights in neural networks. The general idea is to select a set of weights according to a policy and setting them up to zero. \n",
    "\n",
    "Common policies are random weight selection or selecting the smallers weights. \n",
    "Unstructured Pruning can be performed in one or multiple layers within the same network.\n",
    "\n",
    "Altough in theory Unstructured Pruning should decrease the number of operations performed during execution there should be explicit support within the framework or hardware to bypass such operations, otherwise it will just operated over zero."
   ]
  },
  {
   "cell_type": "markdown",
   "metadata": {
    "id": "gjxdSF2xmCei"
   },
   "source": [
    "### Perform Pruning\n",
    "\n",
    "Using the model trained in the previous step using pytorch, perform unstructured pruning in the weights of the model by removing x% of the smallest weights. \n",
    "\n",
    "*   Increment global pruning by 10% until reaching total of 80% pruned weights\n",
    "*   Perform inference at the end of each pruning and observe the impact into the accuracy.\n",
    "\n",
    "\n",
    "Note: The percentages are related to the entire model, not per layer.\n",
    "\n"
   ]
  },
  {
   "cell_type": "code",
   "execution_count": 12,
   "metadata": {
    "id": "KaGWTxBcmkzc"
   },
   "outputs": [
    {
     "name": "stdout",
     "output_type": "stream",
     "text": [
      "Testing 10% pruning:\n",
      "Test Acc: 0.5091\n",
      "\n",
      "Testing 20% pruning:\n",
      "Test Acc: 0.5052\n",
      "\n",
      "Testing 30% pruning:\n",
      "Test Acc: 0.5026\n",
      "\n"
     ]
    }
   ],
   "source": [
    "################################################################################\n",
    "# TODO: Perform unstructured Pruning over the trained model using 3 different  \n",
    "# prunning percentages.                                \n",
    "################################################################################\n",
    "# *****START OF YOUR CODE (DO NOT DELETE/MODIFY THIS LINE)*****\n",
    "\n",
    "import torch\n",
    "import torch.nn.utils.prune as prune\n",
    "import copy\n",
    "\n",
    "pruning_percentages = [0.1, 0.2, 0.3]  \n",
    "\n",
    "for prune_percent in pruning_percentages:\n",
    "    print(f\"Testing {prune_percent*100:.0f}% pruning:\")\n",
    "    \n",
    "    pruned_model = copy.deepcopy(model)\n",
    "    \n",
    "    # Get all parameters of model\n",
    "    parameters_to_prune = []\n",
    "    for name, module in pruned_model.named_modules():\n",
    "        if isinstance(module, (torch.nn.Linear, torch.nn.Conv2d)):\n",
    "            parameters_to_prune.append((module, 'weight'))\n",
    "    \n",
    "    prune.global_unstructured(\n",
    "        parameters_to_prune,\n",
    "        pruning_method=prune.L1Unstructured,\n",
    "        amount=prune_percent,\n",
    "    )\n",
    "    \n",
    "    # Make pruning permanent\n",
    "    for module, param in parameters_to_prune:\n",
    "        prune.remove(module, param)\n",
    "    \n",
    "    # Test the pruned model\n",
    "    test_model(pruned_model, test_data, mode=mode)\n",
    "    print()\n",
    "\n",
    "# *****END OF YOUR CODE (DO NOT DELETE/MODIFY THIS LINE)*****\n",
    "################################################################################\n",
    "#                              END OF YOUR CODE                                #\n",
    "################################################################################"
   ]
  },
  {
   "cell_type": "markdown",
   "metadata": {
    "id": "zH6e3pCMm2in"
   },
   "source": [
    "## Inline Question 1:\n",
    "\n",
    "What happened with the accuracy as the % of pruning increased ?\n",
    "Why was that the case?\n",
    "\n",
    "\n",
    "## Answer: \n",
    "\n",
    "As the percentage of pruning increased, the accuracy of the model decreased. This happens because we are removing weights from the model, across all layers, thus removing learned pattern from the model. \n",
    "This will directly decrease the accuracy of the model. For small percentage like 10%, the effect is minimal but it have compound effect as we increase and prune across all layers at 30%. "
   ]
  },
  {
   "cell_type": "markdown",
   "metadata": {
    "id": "JN5CMlgUd_gj",
    "tags": [
     "pdf-ignore"
    ]
   },
   "source": [
    "## Structured Pruning\n",
    "\n",
    "Structured Pruning consists of removing a bigger chunk of the network parameters at the same time. Instead of removing only a few weights, it is commonplace to remove entire neurons. \n",
    "\n",
    "For example, in Convolutional Layers, removing filters can be beneficial to improve performance as it greatly decreases the amount of computation performed. However, some of these changes may affect output dimensions which may be carried over to other parts of the network. Therefore, when performing structured pruning one must always be aware of which parameters are going to be affected."
   ]
  },
  {
   "cell_type": "markdown",
   "metadata": {
    "id": "fAr9SLo25Gyx"
   },
   "source": [
    "Using the previously trained model in the CINIC-10, perform Structured Prunning only in the Convolution layers of the DNN."
   ]
  },
  {
   "cell_type": "code",
   "execution_count": 13,
   "metadata": {
    "id": "JFPiHtBohTus"
   },
   "outputs": [
    {
     "name": "stdout",
     "output_type": "stream",
     "text": [
      "Testing 10% structured pruning on conv layers:\n",
      "Test Acc: 0.3797\n",
      "\n",
      "Testing 20% structured pruning on conv layers:\n",
      "Test Acc: 0.2745\n",
      "\n",
      "Testing 30% structured pruning on conv layers:\n",
      "Test Acc: 0.1773\n",
      "\n"
     ]
    }
   ],
   "source": [
    "################################################################################\n",
    "# TODO: Perform unstrucuted Pruning over the trained model using 3 different  \n",
    "# prunning percentages.                                \n",
    "################################################################################\n",
    "# *****START OF YOUR CODE (DO NOT DELETE/MODIFY THIS LINE)*****\n",
    "\n",
    "# Define pruning percentages for structured pruning\n",
    "structured_pruning_percentages = [0.1, 0.2, 0.3]  # 10%, 20%, 30%\n",
    "\n",
    "for prune_percent in structured_pruning_percentages:\n",
    "    print(f\"Testing {prune_percent*100:.0f}% structured pruning on conv layers:\")\n",
    "    \n",
    "    pruned_model = copy.deepcopy(model)\n",
    "    \n",
    "    # Apply structured pruning only to convolutional layers\n",
    "    conv_parameters_to_prune = []\n",
    "    for name, module in pruned_model.named_modules():\n",
    "        if isinstance(module, torch.nn.Conv2d):\n",
    "            conv_parameters_to_prune.append((module, 'weight'))\n",
    "    \n",
    "    for module, param in conv_parameters_to_prune:\n",
    "        prune.ln_structured(\n",
    "            module, \n",
    "            name=param, \n",
    "            amount=prune_percent, \n",
    "            n=1,  \n",
    "            dim=0  \n",
    "        )\n",
    "    \n",
    "    for module, param in conv_parameters_to_prune:\n",
    "        prune.remove(module, param)\n",
    "    \n",
    "    # Test the pruned model\n",
    "    test_model(pruned_model, test_data, mode=mode)\n",
    "    print()\n",
    "\n",
    "# *****END OF YOUR CODE (DO NOT DELETE/MODIFY THIS LINE)*****\n",
    "################################################################################\n",
    "#                              END OF YOUR CODE                                #\n",
    "################################################################################"
   ]
  },
  {
   "cell_type": "markdown",
   "metadata": {
    "id": "h85dg7kVd_gk"
   },
   "source": [
    "## Inline Question 2:\n",
    "\n",
    "What is the difference between performing Structured Pruning vs Dropout ? \n",
    "Why would it be beneficial to perform both techniques when developing a Neural Network?\n",
    "\n",
    "\n",
    "## Answer: \n",
    "I think the key difference between dropout and pruning is that permanence of the removal. For dropout, we temporary drop the neurons during training the help with generalization; but prune is permanent dropping from the model. Thus, dropout would be perfect for regularization, but pruning will definitely hurt accuracy as it lose capacity in exchange for faster performance during inference."
   ]
  }
 ],
 "metadata": {
  "colab": {
   "collapsed_sections": [],
   "provenance": []
  },
  "gpuClass": "standard",
  "kernelspec": {
   "display_name": ".env",
   "language": "python",
   "name": "python3"
  },
  "language_info": {
   "codemirror_mode": {
    "name": "ipython",
    "version": 3
   },
   "file_extension": ".py",
   "mimetype": "text/x-python",
   "name": "python",
   "nbconvert_exporter": "python",
   "pygments_lexer": "ipython3",
   "version": "3.12.6"
  }
 },
 "nbformat": 4,
 "nbformat_minor": 0
}
